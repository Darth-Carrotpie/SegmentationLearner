{
 "cells": [
  {
   "cell_type": "markdown",
   "id": "signal-shopper",
   "metadata": {
    "tags": []
   },
   "source": [
    "### About the notebook"
   ]
  },
  {
   "cell_type": "markdown",
   "id": "increasing-antique",
   "metadata": {},
   "source": [
    "GoBig part upscales the model trained in the SegmentationLearner notebook. Make sure the loaded model names match (they should if you left the default ones).\n",
    "- TODO:\n",
    "Better refactor code so that each notebook run would be an Upscaling step, instead of all upscaling in a loop. This way would be able to instpect metrics better without sacrificing speed."
   ]
  },
  {
   "cell_type": "markdown",
   "id": "tender-photographer",
   "metadata": {
    "tags": []
   },
   "source": [
    "### Constants\n",
    "Pick the depending on the machine you use to train and personal preferences."
   ]
  },
  {
   "cell_type": "markdown",
   "id": "suffering-improvement",
   "metadata": {},
   "source": [
    "- ```batchsize``` sets how big a single train batch was in the small version. It should scale down proportionaly dependong on your res, default = 64 (fits well for 11G graphics card and input pic resolution 64x64)\n",
    "- ```use_transfer``` sets if we use transfer learning or not. Default is False, because unrealistic scenes in Unity are trained not very good.\n",
    "For real life applications try to make as realistic of a scene as possible (lighting, shaddows, ambient lights, textures, etc.)\n",
    "- ```input_res``` and ```output_res```\n",
    "Increased resolution transfer sizes, they will always be square, so one dimention is enough.\n",
    "Input aspect ratio and resolution doesn't too matter much, they are squished into square before learning and unsquished afterwards. Should keep that in mind when applying in an actual use case though. Both axes must bigger than maximum defined size in output_res.\n",
    "Default level training is always (64,64). If output_res is empty same size as input_res, no transfer learning to increase resolution can be done.\n",
    "- ```model_arch```\n",
    "How deep your network is. My 11 gig card handles resnet34 well, asuming batchsize = 80 with pic size = (64,64). If you have more capable hardware (or use cloud computing), you can try go higher."
   ]
  },
  {
   "cell_type": "code",
   "execution_count": 1,
   "id": "soviet-usage",
   "metadata": {},
   "outputs": [],
   "source": [
    "use_transfer = False\n",
    "input_res = 256\n",
    "output_res = 512\n",
    "from fastai.vision.all import resnet34 as model_arch\n",
    "big_epochs = 20 #5\n",
    "save_name = \"unity_resnet34\"\n",
    "\n",
    "batchsize = 256 // ((output_res // 64) ** 2)# - ( pic_size // 64) # a double // makes this int type. Uncomment if bs too big for CUDA\n",
    "#batchsize = 5 #override if still have problems"
   ]
  },
  {
   "cell_type": "markdown",
   "id": "interested-district",
   "metadata": {},
   "source": [
    "other choices include: resnet50, resnet101, etc. More info at: https://docs.fast.ai/vision.models.xresnet.html and \n",
    "https://fastai1.fast.ai/vision.models.html"
   ]
  },
  {
   "cell_type": "code",
   "execution_count": 2,
   "id": "blind-stephen",
   "metadata": {},
   "outputs": [
    {
     "name": "stdout",
     "output_type": "stream",
     "text": [
      "Final batchsize:  4\n"
     ]
    }
   ],
   "source": [
    "print(\"Final batchsize: \", str(batchsize))"
   ]
  },
  {
   "cell_type": "markdown",
   "id": "ideal-bible",
   "metadata": {},
   "source": [
    "# Upscale"
   ]
  },
  {
   "cell_type": "markdown",
   "id": "behavioral-injection",
   "metadata": {},
   "source": [
    "#### Helper Funcs"
   ]
  },
  {
   "cell_type": "code",
   "execution_count": 3,
   "id": "wrong-falls",
   "metadata": {},
   "outputs": [],
   "source": [
    "from fastai.learner import patch, delegates, subplots, Recorder\n",
    "import numpy as np\n",
    "import math\n",
    "from matplotlib import pyplot as plt\n",
    "import pandas as pd\n",
    "from fastinference.onnx import *\n",
    "#Source: https://forums.fast.ai/t/plotting-metrics-after-learning/69937/2\n",
    "@patch\n",
    "@delegates(subplots)\n",
    "def plot_metrics(self: Recorder, nrows=None, ncols=None, figsize=None, **kwargs):\n",
    "    metrics = np.stack(self.values)\n",
    "    names = self.metric_names[1:-1]\n",
    "    n = len(names) - 1\n",
    "    if nrows is None and ncols is None:\n",
    "        nrows = int(math.sqrt(n))\n",
    "        ncols = int(np.ceil(n / nrows))\n",
    "    elif nrows is None: nrows = int(np.ceil(n / ncols))\n",
    "    elif ncols is None: ncols = int(np.ceil(n / nrows))\n",
    "    figsize = figsize or (ncols * 6, nrows * 4)\n",
    "    fig, axs = subplots(nrows, ncols, figsize=figsize, **kwargs)\n",
    "    axs = [ax if i < n else ax.set_axis_off() for i, ax in enumerate(axs.flatten())][:n]\n",
    "    for i, (name, ax) in enumerate(zip(names, [axs[0]] + axs)):\n",
    "        ax.plot(metrics[:, i], color='#1f77b4' if i == 0 else '#ff7f0e', label='valid' if i > 0 else 'train')\n",
    "        ax.set_title(name if i > 1 else 'losses')\n",
    "        ax.legend(loc='best')\n",
    "    plt.show()"
   ]
  },
  {
   "cell_type": "markdown",
   "id": "sustainable-library",
   "metadata": {},
   "source": [
    "### Interpetation"
   ]
  },
  {
   "cell_type": "markdown",
   "id": "laden-plaintiff",
   "metadata": {},
   "source": [
    "So the whole idea by going bigger is to transfer what our model already learned and train a network with more outputs on top of it. If there are memory problems, try restarting the kernel, then run \"constants\" cell and then continue form here. If it still does not work, try reducing params, like batchsize, resolutions, etc."
   ]
  },
  {
   "cell_type": "code",
   "execution_count": 4,
   "id": "annoying-ballot",
   "metadata": {},
   "outputs": [],
   "source": [
    "from fastai.vision.all import PILImage, get_image_files, DataBlock, unet_learner, ImageBlock, MaskBlock, RandomSplitter, aug_transforms, foreground_acc, DiceMulti,Normalize\n",
    "from fastai.vision.all import SegmentationInterpretation\n",
    "import os, pathlib\n",
    "path = pathlib.Path().absolute()\n",
    "path = os.path.join(path, \"Assets\", \"Data~\")\n",
    "fnames = get_image_files(os.path.join(path,\"screenshots\"))\n",
    "base_img = PILImage.create(fnames[0])"
   ]
  },
  {
   "cell_type": "code",
   "execution_count": 5,
   "id": "apart-seminar",
   "metadata": {},
   "outputs": [],
   "source": [
    "codes = pd.read_csv(os.path.join(path,'labels.csv'))"
   ]
  },
  {
   "cell_type": "code",
   "execution_count": 6,
   "id": "orange-victorian",
   "metadata": {},
   "outputs": [],
   "source": [
    "#testing if resolutions fit:\n",
    "if output_res > min(base_img.shape):\n",
    "    raise Exception(\"Sorry, but your input screenshot is not higher resolution than your defined 'output_res' value. It must either match or be smaller than screen.\")"
   ]
  },
  {
   "cell_type": "code",
   "execution_count": 7,
   "id": "resident-footwear",
   "metadata": {},
   "outputs": [],
   "source": [
    "def label_func(fn): return os.path.join(path,\"labels\",f\"{fn.stem}{fn.suffix}\")"
   ]
  },
  {
   "cell_type": "code",
   "execution_count": 8,
   "id": "valid-sodium",
   "metadata": {
    "tags": []
   },
   "outputs": [],
   "source": [
    "def train_bigger(epochs, lr, model_name_load, model_name_save, pic_size, do_final_export):\n",
    "    current_size = (pic_size,pic_size)\n",
    "    print(\"current pic size:\",current_size)\n",
    "    print(\"current batchsize:\",batchsize)\n",
    "    print(\"epochs:\",epochs)\n",
    "    bigger_block = DataBlock(blocks=(ImageBlock, MaskBlock(codes.LabelName)),\n",
    "                       get_items = get_image_files,\n",
    "                       get_y = label_func,\n",
    "                       splitter=RandomSplitter(),\n",
    "                       batch_tfms=[*aug_transforms(flip_vert = False, max_lighting = 0.1, max_warp=0.05, size=current_size), Normalize])\n",
    "    dls = bigger_block.dataloaders(os.path.join(path,\"screenshots\"), path=path, bs=batchsize)\n",
    "    learn = unet_learner(dls, model_arch, pretrained = use_transfer, moms=(0.85, 0.75, 0.85), n_out=len(codes[\"LabelName\"])+1, metrics=[foreground_acc, DiceMulti()])\n",
    "    learn.load(model_name_load)\n",
    "    learn.fit_one_cycle(epochs, lr)\n",
    "\n",
    "    learn.save(model_name_save)\n",
    "\n",
    "    if do_final_export:\n",
    "        learn.export(\"models/\"+model_name_save+\"_big\")\n",
    "        print(\"exported final model as:\",model_name_save+\"_big\")\n",
    "\n",
    "        onnx_path = os.path.join(path, \"models/\", model_name_save+\"_onnx\")\n",
    "        learn.to_onnx(onnx_path)\n",
    "        print(\"exported an onnx model as:\",onnx_path)\n",
    "    return learn"
   ]
  },
  {
   "cell_type": "code",
   "execution_count": 9,
   "id": "adjustable-gabriel",
   "metadata": {
    "tags": []
   },
   "outputs": [
    {
     "data": {
      "text/plain": [
       "slice(1e-05, 8e-05, None)"
      ]
     },
     "execution_count": 9,
     "metadata": {},
     "output_type": "execute_result"
    }
   ],
   "source": [
    "lr = slice(5e-6, 3e-5)\n",
    "lr"
   ]
  },
  {
   "cell_type": "code",
   "execution_count": 10,
   "id": "apart-adams",
   "metadata": {},
   "outputs": [
    {
     "name": "stdout",
     "output_type": "stream",
     "text": [
      "Training: unity_resnet34_512x\n",
      "current pic size: (512, 512)\n",
      "current batchsize: 4\n",
      "epochs: 10\n"
     ]
    },
    {
     "data": {
      "text/html": [
       "<table border=\"1\" class=\"dataframe\">\n",
       "  <thead>\n",
       "    <tr style=\"text-align: left;\">\n",
       "      <th>epoch</th>\n",
       "      <th>train_loss</th>\n",
       "      <th>valid_loss</th>\n",
       "      <th>foreground_acc</th>\n",
       "      <th>dice_multi</th>\n",
       "      <th>time</th>\n",
       "    </tr>\n",
       "  </thead>\n",
       "  <tbody>\n",
       "    <tr>\n",
       "      <td>0</td>\n",
       "      <td>0.267069</td>\n",
       "      <td>0.069174</td>\n",
       "      <td>0.978568</td>\n",
       "      <td>0.851864</td>\n",
       "      <td>04:55</td>\n",
       "    </tr>\n",
       "    <tr>\n",
       "      <td>1</td>\n",
       "      <td>0.241810</td>\n",
       "      <td>0.165649</td>\n",
       "      <td>0.946353</td>\n",
       "      <td>0.793158</td>\n",
       "      <td>04:53</td>\n",
       "    </tr>\n",
       "    <tr>\n",
       "      <td>2</td>\n",
       "      <td>0.202048</td>\n",
       "      <td>0.118099</td>\n",
       "      <td>0.963901</td>\n",
       "      <td>0.781857</td>\n",
       "      <td>04:53</td>\n",
       "    </tr>\n",
       "    <tr>\n",
       "      <td>3</td>\n",
       "      <td>0.134575</td>\n",
       "      <td>0.096338</td>\n",
       "      <td>0.970929</td>\n",
       "      <td>0.842400</td>\n",
       "      <td>04:54</td>\n",
       "    </tr>\n",
       "    <tr>\n",
       "      <td>4</td>\n",
       "      <td>0.159966</td>\n",
       "      <td>0.069827</td>\n",
       "      <td>0.978334</td>\n",
       "      <td>0.854161</td>\n",
       "      <td>04:54</td>\n",
       "    </tr>\n",
       "    <tr>\n",
       "      <td>5</td>\n",
       "      <td>0.096000</td>\n",
       "      <td>0.052727</td>\n",
       "      <td>0.983743</td>\n",
       "      <td>0.880042</td>\n",
       "      <td>04:54</td>\n",
       "    </tr>\n",
       "    <tr>\n",
       "      <td>6</td>\n",
       "      <td>0.079482</td>\n",
       "      <td>0.048402</td>\n",
       "      <td>0.985575</td>\n",
       "      <td>0.877575</td>\n",
       "      <td>04:54</td>\n",
       "    </tr>\n",
       "    <tr>\n",
       "      <td>7</td>\n",
       "      <td>0.074157</td>\n",
       "      <td>0.037120</td>\n",
       "      <td>0.988692</td>\n",
       "      <td>0.896456</td>\n",
       "      <td>04:54</td>\n",
       "    </tr>\n",
       "    <tr>\n",
       "      <td>8</td>\n",
       "      <td>0.063715</td>\n",
       "      <td>0.037733</td>\n",
       "      <td>0.988479</td>\n",
       "      <td>0.898184</td>\n",
       "      <td>04:54</td>\n",
       "    </tr>\n",
       "    <tr>\n",
       "      <td>9</td>\n",
       "      <td>0.060568</td>\n",
       "      <td>0.038793</td>\n",
       "      <td>0.988450</td>\n",
       "      <td>0.897368</td>\n",
       "      <td>04:54</td>\n",
       "    </tr>\n",
       "  </tbody>\n",
       "</table>"
      ],
      "text/plain": [
       "<IPython.core.display.HTML object>"
      ]
     },
     "metadata": {},
     "output_type": "display_data"
    },
    {
     "name": "stdout",
     "output_type": "stream",
     "text": [
      "exported final model as: unity_resnet34_512x_big\n",
      "exported an onnx model as: /home/carrotpie/code/classB/SegmentationLearner/Assets/Data~/models/unity_resnet34_512x_onnx\n"
     ]
    }
   ],
   "source": [
    "name_to_load = save_name+\"_\"+str(input_res)+\"x\"\n",
    "name_to_save = save_name+\"_\"+str(output_res)+\"x\"\n",
    "\n",
    "print(\"Training: \"+name_to_save)\n",
    "learner = train_bigger(big_epochs, lr, name_to_load, name_to_save, output_res, True)"
   ]
  },
  {
   "cell_type": "markdown",
   "id": "dirty-gilbert",
   "metadata": {
    "tags": []
   },
   "source": [
    "# Results"
   ]
  },
  {
   "cell_type": "markdown",
   "id": "common-shield",
   "metadata": {
    "tags": []
   },
   "source": [
    "### Metrics"
   ]
  },
  {
   "cell_type": "code",
   "execution_count": 11,
   "id": "controversial-economics",
   "metadata": {},
   "outputs": [
    {
     "data": {
      "image/png": "[encoded data removed]",
      "text/plain": [
       "<Figure size 1296x288 with 3 Axes>"
      ]
     },
     "metadata": {
      "needs_background": "light"
     },
     "output_type": "display_data"
    }
   ],
   "source": [
    "    #!!!! If you use metrics, the models seems to sometimes run out of memory, so decrease batch size before that.\n",
    "#metrics\n",
    "learner.recorder.plot_metrics()"
   ]
  },
  {
   "cell_type": "code",
   "execution_count": null,
   "id": "expected-immunology",
   "metadata": {},
   "outputs": [
    {
     "data": {
      "text/html": [
       "\n",
       "    <div>\n",
       "        <style>\n",
       "            /* Turns off some styling */\n",
       "            progress {\n",
       "                /* gets rid of default border in Firefox and Opera. */\n",
       "                border: none;\n",
       "                /* Needs to be in here for Safari polyfill so background images work as expected. */\n",
       "                background-size: auto;\n",
       "            }\n",
       "            .progress-bar-interrupted, .progress-bar-interrupted::-webkit-progress-bar {\n",
       "                background: #F44336;\n",
       "            }\n",
       "        </style>\n",
       "      <progress value='103' class='' max='150' style='width:300px; height:20px; vertical-align: middle;'></progress>\n",
       "      68.67% [103/150 00:24<00:11 0.0606]\n",
       "    </div>\n",
       "    "
      ],
      "text/plain": [
       "<IPython.core.display.HTML object>"
      ]
     },
     "metadata": {},
     "output_type": "display_data"
    }
   ],
   "source": [
    "#top losses\n",
    "interp = SegmentationInterpretation.from_learner(learner)\n",
    "interp.plot_top_losses(k=5)"
   ]
  },
  {
   "cell_type": "code",
   "execution_count": null,
   "id": "coupled-efficiency",
   "metadata": {},
   "outputs": [],
   "source": [
    "raise Exception(\"Stop here. Below section should be run separately after kernel restart. Otherwise libs interfere with each other somehow. First run constants cell, then all of the below.\")"
   ]
  },
  {
   "cell_type": "markdown",
   "id": "unlike-independence",
   "metadata": {
    "tags": []
   },
   "source": [
    "## Predicting"
   ]
  },
  {
   "cell_type": "markdown",
   "id": "sized-trinidad",
   "metadata": {},
   "source": [
    "### Loading libs and paths"
   ]
  },
  {
   "cell_type": "code",
   "execution_count": null,
   "id": "collect-pickup",
   "metadata": {},
   "outputs": [],
   "source": [
    "from fastai.learner import patch, delegates, subplots, Recorder, load_learner\n",
    "import os, pathlib\n",
    "from fastai.vision.all import PILImage, get_image_files\n",
    "import numpy as np\n",
    "\n",
    "from notebook_libs.helper_funcs import show_masked_original_size, path_to_image_bytes, load_image_from_bytes\n",
    "\n",
    "def label_func(fn): return os.path.join(path,\"labels\",f\"{fn.stem}{fn.suffix}\")"
   ]
  },
  {
   "cell_type": "code",
   "execution_count": null,
   "id": "joined-intelligence",
   "metadata": {},
   "outputs": [],
   "source": [
    "path = pathlib.Path().absolute()\n",
    "path = os.path.join(path, \"Assets\", \"Data~\")"
   ]
  },
  {
   "cell_type": "code",
   "execution_count": null,
   "id": "pacific-livestock",
   "metadata": {
    "tags": []
   },
   "outputs": [],
   "source": [
    "# Can use walk to read the folder or just import with a helper func:\n",
    "_test_upload_file = \"\"\n",
    "for root, dirs, files in os.walk(\n",
    "    path, topdown=True, onerror=None, followlinks=False\n",
    "):\n",
    "    _test_upload_file = os.path.join(root, files[0])\n",
    "model_path = os.path.join(path, \"models\", \"unity_resnet34_\"+str(output_res)+\"x\"+\"_big\")\n",
    "\n",
    "fnames = get_image_files(os.path.join(path,\"screenshots\"))\n",
    "\n",
    "print(model_path)\n",
    "print(_test_upload_file)\n",
    "print(fnames[0])"
   ]
  },
  {
   "cell_type": "markdown",
   "id": "accessible-speaker",
   "metadata": {
    "tags": []
   },
   "source": [
    "### Loading a model"
   ]
  },
  {
   "cell_type": "code",
   "execution_count": null,
   "id": "french-spencer",
   "metadata": {},
   "outputs": [],
   "source": [
    "learner = load_learner(model_path)\n",
    "img_bytes = path_to_image_bytes(_test_upload_file)\n",
    "image = load_image_from_bytes(img_bytes)"
   ]
  },
  {
   "cell_type": "markdown",
   "id": "abandoned-title",
   "metadata": {
    "tags": []
   },
   "source": [
    "### Predictions"
   ]
  },
  {
   "cell_type": "code",
   "execution_count": null,
   "id": "scenic-wagon",
   "metadata": {},
   "outputs": [],
   "source": [
    "base_img = PILImage.create(fnames[0])\n",
    "pred = learner.predict(np.array(base_img))[0]\n",
    "print(pred.shape)\n",
    "pred.show()"
   ]
  },
  {
   "cell_type": "code",
   "execution_count": null,
   "id": "transsexual-electronics",
   "metadata": {},
   "outputs": [],
   "source": [
    "show_masked_original_size(base_img, learner)"
   ]
  },
  {
   "cell_type": "markdown",
   "id": "incorporated-sister",
   "metadata": {},
   "source": [
    "For ONNX inference / predictions, see ONNX.ipynb"
   ]
  }
 ],
 "metadata": {
  "kernelspec": {
   "display_name": "Python 3",
   "language": "python",
   "name": "python3"
  },
  "language_info": {
   "codemirror_mode": {
    "name": "ipython",
    "version": 3
   },
   "file_extension": ".py",
   "mimetype": "text/x-python",
   "name": "python",
   "nbconvert_exporter": "python",
   "pygments_lexer": "ipython3",
   "version": "3.6.13"
  }
 },
 "nbformat": 4,
 "nbformat_minor": 5
}
