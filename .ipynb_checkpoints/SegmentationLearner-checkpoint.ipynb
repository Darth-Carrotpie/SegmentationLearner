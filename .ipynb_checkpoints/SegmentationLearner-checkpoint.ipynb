{
 "cells": [
  {
   "cell_type": "markdown",
   "id": "emerging-telling",
   "metadata": {
    "tags": []
   },
   "source": [
    "### Imports"
   ]
  },
  {
   "cell_type": "code",
   "execution_count": null,
   "id": "ahead-emission",
   "metadata": {},
   "outputs": [],
   "source": []
  },
  {
   "cell_type": "code",
   "execution_count": null,
   "id": "speaking-research",
   "metadata": {},
   "outputs": [],
   "source": []
  },
  {
   "cell_type": "code",
   "execution_count": 1,
   "id": "powerful-watts",
   "metadata": {},
   "outputs": [],
   "source": [
    "import pandas as pd\n",
    "from fastai.vision.all import *"
   ]
  },
  {
   "cell_type": "code",
   "execution_count": 2,
   "id": "meaningful-nicaragua",
   "metadata": {},
   "outputs": [],
   "source": [
    "import pathlib\n",
    "import os"
   ]
  },
  {
   "cell_type": "code",
   "execution_count": 3,
   "id": "editorial-scenario",
   "metadata": {},
   "outputs": [
    {
     "ename": "NameError",
     "evalue": "name 'fastai' is not defined",
     "output_type": "error",
     "traceback": [
      "\u001b[0;31m---------------------------------------------------------------------------\u001b[0m",
      "\u001b[0;31mNameError\u001b[0m                                 Traceback (most recent call last)",
      "\u001b[0;32m<ipython-input-3-3f48affdcc98>\u001b[0m in \u001b[0;36m<module>\u001b[0;34m\u001b[0m\n\u001b[0;32m----> 1\u001b[0;31m \u001b[0mfastai\u001b[0m\u001b[0;34m.\u001b[0m\u001b[0mdevice\u001b[0m \u001b[0;34m=\u001b[0m \u001b[0mtorch\u001b[0m\u001b[0;34m.\u001b[0m\u001b[0mdevice\u001b[0m\u001b[0;34m(\u001b[0m\u001b[0;34m'cpu'\u001b[0m\u001b[0;34m)\u001b[0m\u001b[0;34m\u001b[0m\u001b[0;34m\u001b[0m\u001b[0m\n\u001b[0m",
      "\u001b[0;31mNameError\u001b[0m: name 'fastai' is not defined"
     ]
    }
   ],
   "source": [
    "fastai.device = torch.device('cpu')"
   ]
  },
  {
   "cell_type": "code",
   "execution_count": null,
   "id": "respiratory-fraud",
   "metadata": {},
   "outputs": [],
   "source": [
    "path = pathlib.Path().absolute()\n",
    "path = os.path.join(path, \"Assets\", \"Data\")\n",
    "path"
   ]
  },
  {
   "cell_type": "code",
   "execution_count": null,
   "id": "virtual-incentive",
   "metadata": {},
   "outputs": [],
   "source": [
    "codes = pd.read_csv(os.path.join(path,'labels.csv'))\n",
    "codes.head()"
   ]
  },
  {
   "cell_type": "code",
   "execution_count": null,
   "id": "productive-surfing",
   "metadata": {},
   "outputs": [],
   "source": [
    "codes.shape"
   ]
  },
  {
   "cell_type": "code",
   "execution_count": null,
   "id": "natural-accuracy",
   "metadata": {},
   "outputs": [],
   "source": [
    "fnames = get_image_files(os.path.join(path,\"screenshots\"))\n",
    "fnames[0]"
   ]
  },
  {
   "cell_type": "code",
   "execution_count": null,
   "id": "governmental-richards",
   "metadata": {},
   "outputs": [],
   "source": [
    "def label_func(fn): return os.path.join(path,\"labels\",f\"{fn.stem}{fn.suffix}\")"
   ]
  },
  {
   "cell_type": "code",
   "execution_count": null,
   "id": "indonesian-wheel",
   "metadata": {},
   "outputs": [],
   "source": [
    "dls = SegmentationDataLoaders.from_label_func(\n",
    "    path, bs=8, fnames = fnames, label_func = label_func, item_tfms=Resize(256)\n",
    ")"
   ]
  },
  {
   "cell_type": "code",
   "execution_count": null,
   "id": "numerical-treasure",
   "metadata": {},
   "outputs": [],
   "source": [
    "dls.show_batch(max_n=20)"
   ]
  },
  {
   "cell_type": "code",
   "execution_count": null,
   "id": "systematic-balance",
   "metadata": {},
   "outputs": [],
   "source": [
    "learn = unet_learner(dls, resnet34, n_out = codes.shape[0]).to_fp16()"
   ]
  },
  {
   "cell_type": "code",
   "execution_count": null,
   "id": "helpful-happening",
   "metadata": {},
   "outputs": [],
   "source": [
    "learn.model = learn.model.cpu()"
   ]
  },
  {
   "cell_type": "code",
   "execution_count": null,
   "id": "arabic-montana",
   "metadata": {},
   "outputs": [],
   "source": [
    "learn.fine_tune(6)"
   ]
  },
  {
   "cell_type": "code",
   "execution_count": null,
   "id": "subject-spray",
   "metadata": {},
   "outputs": [],
   "source": []
  },
  {
   "cell_type": "code",
   "execution_count": null,
   "id": "disturbed-simple",
   "metadata": {},
   "outputs": [],
   "source": []
  }
 ],
 "metadata": {
  "kernelspec": {
   "display_name": "Python 3",
   "language": "python",
   "name": "python3"
  },
  "language_info": {
   "codemirror_mode": {
    "name": "ipython",
    "version": 3
   },
   "file_extension": ".py",
   "mimetype": "text/x-python",
   "name": "python",
   "nbconvert_exporter": "python",
   "pygments_lexer": "ipython3",
   "version": "3.6.13"
  }
 },
 "nbformat": 4,
 "nbformat_minor": 5
}
