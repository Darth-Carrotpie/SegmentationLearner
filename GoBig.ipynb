{
 "cells": [
  {
   "cell_type": "markdown",
   "id": "military-server",
   "metadata": {
    "tags": []
   },
   "source": [
    "### About the notebook"
   ]
  },
  {
   "cell_type": "markdown",
   "id": "whole-beverage",
   "metadata": {},
   "source": [
    "GoBig part upscales the model trained in the SegmentationLearner notebook. Make sure the loaded model names match (they should if you left the default ones).\n",
    "- TODO:\n",
    "Better refactor code so that each notebook run would be an Upscaling step, instead of all upscaling in a loop. This way would be able to instpect metrics better without sacrificing speed."
   ]
  },
  {
   "cell_type": "markdown",
   "id": "built-parking",
   "metadata": {
    "tags": []
   },
   "source": [
    "### Constants\n",
    "Pick the depending on the machine you use to train and personal preferences."
   ]
  },
  {
   "cell_type": "markdown",
   "id": "pretty-worker",
   "metadata": {},
   "source": [
    "- ```batchsize``` sets how big a single train batch was in the small version. It should scale down proportionaly dependong on your res, default = 64 (fits well for 11G graphics card and input pic resolution 64x64)\n",
    "- ```use_transfer``` sets if we use transfer learning or not. Default is False, because unrealistic scenes in Unity are trained not very good.\n",
    "For real life applications try to make as realistic of a scene as possible (lighting, shaddows, ambient lights, textures, etc.)\n",
    "- ```big_res_levels```\n",
    "Increased resolution transfer sizes, they should always be square.\n",
    "Input aspect ratio and resolution doesnt matter much, they are squished into square before learning and unsquished afterwards. Should keep that in mind when applying in an actual use case though. Both axes must bigger than maximum defined size in big_res_levels.\n",
    "Default level training is always (64,64). If big_res_levels is empty [], no transfer learning to increase resolution is done.\n",
    "- ```model_arch```\n",
    "How deep your network is. My 11 gig card handles resnet34 well, asuming batchsize = 64 and pic size (64,64). If you have more capable hardware (or use cloud computing), you can try go higher.\n",
    "- If you have ```len(big_res_levels) > 0```, ```big_epochs``` amount will determine how many epochs will run to make the big picture. Minimum is ```big_epochs > len(big_res_levels) + 1``` because it is a diminishing size for each resolution increment."
   ]
  },
  {
   "cell_type": "code",
   "execution_count": 1,
   "id": "twenty-belief",
   "metadata": {},
   "outputs": [],
   "source": [
    "batchsize = 80\n",
    "use_transfer = False\n",
    "big_res_levels = [128, 256]\n",
    "from fastai.vision.all import resnet34 as model_arch\n",
    "big_epochs = 5\n",
    "save_name = \"unity_resnet34\""
   ]
  },
  {
   "cell_type": "markdown",
   "id": "dietary-removal",
   "metadata": {},
   "source": [
    "other choices include: resnet50, resnet101, etc. More info at: https://docs.fast.ai/vision.models.xresnet.html and \n",
    "https://fastai1.fast.ai/vision.models.html"
   ]
  },
  {
   "cell_type": "markdown",
   "id": "maritime-providence",
   "metadata": {},
   "source": [
    "# Upscale"
   ]
  },
  {
   "cell_type": "markdown",
   "id": "false-logging",
   "metadata": {},
   "source": [
    "#### Helper Funcs"
   ]
  },
  {
   "cell_type": "code",
   "execution_count": 2,
   "id": "eastern-louisville",
   "metadata": {},
   "outputs": [],
   "source": [
    "from fastai.learner import patch, delegates, subplots, Recorder\n",
    "import numpy as np\n",
    "import math\n",
    "from matplotlib import pyplot as plt\n",
    "#Source: https://forums.fast.ai/t/plotting-metrics-after-learning/69937/2\n",
    "@patch\n",
    "@delegates(subplots)\n",
    "def plot_metrics(self: Recorder, nrows=None, ncols=None, figsize=None, **kwargs):\n",
    "    metrics = np.stack(self.values)\n",
    "    names = self.metric_names[1:-1]\n",
    "    n = len(names) - 1\n",
    "    if nrows is None and ncols is None:\n",
    "        nrows = int(math.sqrt(n))\n",
    "        ncols = int(np.ceil(n / nrows))\n",
    "    elif nrows is None: nrows = int(np.ceil(n / ncols))\n",
    "    elif ncols is None: ncols = int(np.ceil(n / nrows))\n",
    "    figsize = figsize or (ncols * 6, nrows * 4)\n",
    "    fig, axs = subplots(nrows, ncols, figsize=figsize, **kwargs)\n",
    "    axs = [ax if i < n else ax.set_axis_off() for i, ax in enumerate(axs.flatten())][:n]\n",
    "    for i, (name, ax) in enumerate(zip(names, [axs[0]] + axs)):\n",
    "        ax.plot(metrics[:, i], color='#1f77b4' if i == 0 else '#ff7f0e', label='valid' if i > 0 else 'train')\n",
    "        ax.set_title(name if i > 1 else 'losses')\n",
    "        ax.legend(loc='best')\n",
    "    plt.show()"
   ]
  },
  {
   "cell_type": "markdown",
   "id": "rolled-recycling",
   "metadata": {},
   "source": [
    "### Interpetation"
   ]
  },
  {
   "cell_type": "markdown",
   "id": "monetary-aaron",
   "metadata": {},
   "source": [
    "So the whole idea by going bigger is to transfer what our model already learned and train a network with more outputs on top of it. If there are memory problems, try restarting the kernel, then run \"constants\" cell and then continue form here. If it still does not work, try reducing params, like batchsize, resolutions, etc."
   ]
  },
  {
   "cell_type": "code",
   "execution_count": 3,
   "id": "dutch-shame",
   "metadata": {},
   "outputs": [],
   "source": [
    "if len(big_res_levels) == 0:\n",
    "    raise SystemExit(\"Stop right there! No need to run whole stuff below. Do it selectively!\")"
   ]
  },
  {
   "cell_type": "code",
   "execution_count": 4,
   "id": "stock-resource",
   "metadata": {},
   "outputs": [],
   "source": [
    "from fastai.vision.all import PILImage, get_image_files, DataBlock, unet_learner, ImageBlock, MaskBlock, RandomSplitter, aug_transforms, foreground_acc, DiceMulti,Normalize\n",
    "from fastai.vision.all import SegmentationInterpretation\n",
    "import os, pathlib\n",
    "path = pathlib.Path().absolute()\n",
    "path = os.path.join(path, \"Assets\", \"Data~\")\n",
    "fnames = get_image_files(os.path.join(path,\"screenshots\"))\n",
    "base_img = PILImage.create(fnames[0])"
   ]
  },
  {
   "cell_type": "code",
   "execution_count": 5,
   "id": "becoming-austria",
   "metadata": {},
   "outputs": [],
   "source": [
    "import pandas as pd\n",
    "codes = pd.read_csv(os.path.join(path,'labels.csv'))"
   ]
  },
  {
   "cell_type": "code",
   "execution_count": 6,
   "id": "prescribed-bumper",
   "metadata": {},
   "outputs": [],
   "source": [
    "#testing if resolutions fit:\n",
    "if max(big_res_levels) > min(base_img.shape):\n",
    "    raise Exception(\"Sorry, but your input screenshot is higher resolution than your defined 'big_res_levels' maximum value. It must either match or be smaller than screen.\")"
   ]
  },
  {
   "cell_type": "code",
   "execution_count": 7,
   "id": "proof-clinton",
   "metadata": {},
   "outputs": [],
   "source": [
    "def label_func(fn): return os.path.join(path,\"labels\",f\"{fn.stem}{fn.suffix}\")"
   ]
  },
  {
   "cell_type": "code",
   "execution_count": 8,
   "id": "neither-grounds",
   "metadata": {},
   "outputs": [
    {
     "data": {
      "text/plain": [
       "slice(3e-05, 0.002, None)"
      ]
     },
     "execution_count": 8,
     "metadata": {},
     "output_type": "execute_result"
    }
   ],
   "source": [
    "lr = slice(3e-5, 2e-3) ## slice(1e-3)\n",
    "lr"
   ]
  },
  {
   "cell_type": "code",
   "execution_count": 9,
   "id": "historical-microwave",
   "metadata": {},
   "outputs": [],
   "source": [
    "def train_bigger(epochs, lr, model_name_load, model_name_save, pic_size, is_last):\n",
    "    current_size = (pic_size,pic_size)\n",
    "    print(\"current pic size:\",current_size)\n",
    "    curr_batchsize = batchsize // (pic_size // 64)# - ( pic_size // 64) # a double // makes this int type. Uncomment if bs too big for CUDA\n",
    "    print(\"current batchsize:\",curr_batchsize)\n",
    "    print(\"epochs:\",epochs)\n",
    "    bigger_block = DataBlock(blocks=(ImageBlock, MaskBlock(codes.LabelName)),\n",
    "                       get_items = get_image_files,\n",
    "                       get_y = label_func,\n",
    "                       splitter=RandomSplitter(),\n",
    "                       batch_tfms=[*aug_transforms(flip_vert = False, max_lighting = 0.1, max_warp=0.05, size=current_size), Normalize])\n",
    "    dls = bigger_block.dataloaders(os.path.join(path,\"screenshots\"), path=path, bs=curr_batchsize)\n",
    "    with unet_learner(dls, model_arch, pretrained = use_transfer, moms=(0.85, 0.75, 0.85), n_out=len(codes[\"LabelName\"])+1, metrics=[foreground_acc, DiceMulti()]) as learn:\n",
    "        learn.load(model_name_load)\n",
    "        learn.fit_one_cycle(epochs, lr)\n",
    "        #!!!! If you use metrics, the models will not properly flush memory, so decrease batch size before that.\n",
    "        #metrics\n",
    "        #learn.recorder.plot_metrics()\n",
    "        #top losses\n",
    "        #interp = SegmentationInterpretation.from_learner(learn)\n",
    "        #interp.plot_top_losses(k=5)\n",
    "        \n",
    "        learn.save(model_name_save)\n",
    "        if is_last:\n",
    "            learn.export(\"models/\"+model_name_save+\"_big\")\n",
    "            print(\"exported final model as:\",model_name_save+\"_big\")"
   ]
  },
  {
   "cell_type": "code",
   "execution_count": 10,
   "id": "spatial-district",
   "metadata": {},
   "outputs": [
    {
     "name": "stdout",
     "output_type": "stream",
     "text": [
      "Training: unity_resnet34_128x\n",
      "current pic size: (128, 128)\n",
      "current batchsize: 40\n",
      "epochs: 2\n"
     ]
    },
    {
     "data": {
      "text/html": [
       "\n",
       "    <div>\n",
       "        <style>\n",
       "            /* Turns off some styling */\n",
       "            progress {\n",
       "                /* gets rid of default border in Firefox and Opera. */\n",
       "                border: none;\n",
       "                /* Needs to be in here for Safari polyfill so background images work as expected. */\n",
       "                background-size: auto;\n",
       "            }\n",
       "            .progress-bar-interrupted, .progress-bar-interrupted::-webkit-progress-bar {\n",
       "                background: #F44336;\n",
       "            }\n",
       "        </style>\n",
       "      <progress value='0' class='' max='1' style='width:300px; height:20px; vertical-align: middle;'></progress>\n",
       "      \n",
       "    </div>\n",
       "    \n"
      ],
      "text/plain": [
       "<IPython.core.display.HTML object>"
      ]
     },
     "metadata": {},
     "output_type": "display_data"
    },
    {
     "data": {
      "text/html": [
       "<table border=\"1\" class=\"dataframe\">\n",
       "  <thead>\n",
       "    <tr style=\"text-align: left;\">\n",
       "      <th>epoch</th>\n",
       "      <th>train_loss</th>\n",
       "      <th>valid_loss</th>\n",
       "      <th>foreground_acc</th>\n",
       "      <th>dice_multi</th>\n",
       "      <th>time</th>\n",
       "    </tr>\n",
       "  </thead>\n",
       "  <tbody>\n",
       "    <tr>\n",
       "      <td>0</td>\n",
       "      <td>0.184444</td>\n",
       "      <td>0.091285</td>\n",
       "      <td>0.973289</td>\n",
       "      <td>0.821002</td>\n",
       "      <td>00:25</td>\n",
       "    </tr>\n",
       "    <tr>\n",
       "      <td>1</td>\n",
       "      <td>0.133292</td>\n",
       "      <td>0.070329</td>\n",
       "      <td>0.978468</td>\n",
       "      <td>0.855957</td>\n",
       "      <td>00:22</td>\n",
       "    </tr>\n",
       "  </tbody>\n",
       "</table>"
      ],
      "text/plain": [
       "<IPython.core.display.HTML object>"
      ]
     },
     "metadata": {},
     "output_type": "display_data"
    },
    {
     "name": "stdout",
     "output_type": "stream",
     "text": [
      "Training: unity_resnet34_256x\n",
      "current pic size: (256, 256)\n",
      "current batchsize: 20\n",
      "epochs: 2\n"
     ]
    },
    {
     "data": {
      "text/html": [
       "\n",
       "    <div>\n",
       "        <style>\n",
       "            /* Turns off some styling */\n",
       "            progress {\n",
       "                /* gets rid of default border in Firefox and Opera. */\n",
       "                border: none;\n",
       "                /* Needs to be in here for Safari polyfill so background images work as expected. */\n",
       "                background-size: auto;\n",
       "            }\n",
       "            .progress-bar-interrupted, .progress-bar-interrupted::-webkit-progress-bar {\n",
       "                background: #F44336;\n",
       "            }\n",
       "        </style>\n",
       "      <progress value='0' class='' max='1' style='width:300px; height:20px; vertical-align: middle;'></progress>\n",
       "      \n",
       "    </div>\n",
       "    \n"
      ],
      "text/plain": [
       "<IPython.core.display.HTML object>"
      ]
     },
     "metadata": {},
     "output_type": "display_data"
    },
    {
     "data": {
      "text/html": [
       "<table border=\"1\" class=\"dataframe\">\n",
       "  <thead>\n",
       "    <tr style=\"text-align: left;\">\n",
       "      <th>epoch</th>\n",
       "      <th>train_loss</th>\n",
       "      <th>valid_loss</th>\n",
       "      <th>foreground_acc</th>\n",
       "      <th>dice_multi</th>\n",
       "      <th>time</th>\n",
       "    </tr>\n",
       "  </thead>\n",
       "  <tbody>\n",
       "    <tr>\n",
       "      <td>0</td>\n",
       "      <td>0.239843</td>\n",
       "      <td>0.118214</td>\n",
       "      <td>0.966556</td>\n",
       "      <td>0.826682</td>\n",
       "      <td>01:16</td>\n",
       "    </tr>\n",
       "    <tr>\n",
       "      <td>1</td>\n",
       "      <td>0.147879</td>\n",
       "      <td>0.074915</td>\n",
       "      <td>0.977024</td>\n",
       "      <td>0.882337</td>\n",
       "      <td>01:11</td>\n",
       "    </tr>\n",
       "  </tbody>\n",
       "</table>"
      ],
      "text/plain": [
       "<IPython.core.display.HTML object>"
      ]
     },
     "metadata": {},
     "output_type": "display_data"
    },
    {
     "name": "stdout",
     "output_type": "stream",
     "text": [
      "exported final model as: unity_resnet34_256x_big\n"
     ]
    }
   ],
   "source": [
    "for i in range(len(big_res_levels)):\n",
    "    prev_name = \"64\"\n",
    "    if i > 0:\n",
    "        prev_name = big_res_levels[i-1]\n",
    "    \n",
    "    name_to_load = save_name+\"_\"+str(prev_name)+\"x\"\n",
    "    name_to_save = save_name+\"_\"+str(big_res_levels[i])+\"x\"\n",
    "    \n",
    "    epochs = big_epochs - i\n",
    "    print(\"Training: \"+name_to_save)\n",
    "    train_bigger(1, lr, name_to_load, name_to_save, big_res_levels[i], (i == len(big_res_levels)-1) )"
   ]
  },
  {
   "cell_type": "markdown",
   "id": "optimum-spanish",
   "metadata": {
    "tags": []
   },
   "source": [
    "# Results"
   ]
  },
  {
   "cell_type": "markdown",
   "id": "discrete-anthropology",
   "metadata": {},
   "source": [
    "#### Helper methods"
   ]
  },
  {
   "cell_type": "code",
   "execution_count": 11,
   "id": "thick-distinction",
   "metadata": {},
   "outputs": [],
   "source": [
    "from fastai.learner import patch, delegates, subplots, Recorder"
   ]
  },
  {
   "cell_type": "code",
   "execution_count": 12,
   "id": "quick-secondary",
   "metadata": {},
   "outputs": [],
   "source": [
    "#Source: https://forums.fast.ai/t/plotting-metrics-after-learning/69937/2\n",
    "@patch\n",
    "@delegates(subplots)\n",
    "def plot_metrics(self: Recorder, nrows=None, ncols=None, figsize=None, **kwargs):\n",
    "    metrics = np.stack(self.values)\n",
    "    names = self.metric_names[1:-1]\n",
    "    n = len(names) - 1\n",
    "    if nrows is None and ncols is None:\n",
    "        nrows = int(math.sqrt(n))\n",
    "        ncols = int(np.ceil(n / nrows))\n",
    "    elif nrows is None: nrows = int(np.ceil(n / ncols))\n",
    "    elif ncols is None: ncols = int(np.ceil(n / nrows))\n",
    "    figsize = figsize or (ncols * 6, nrows * 4)\n",
    "    fig, axs = subplots(nrows, ncols, figsize=figsize, **kwargs)\n",
    "    axs = [ax if i < n else ax.set_axis_off() for i, ax in enumerate(axs.flatten())][:n]\n",
    "    for i, (name, ax) in enumerate(zip(names, [axs[0]] + axs)):\n",
    "        ax.plot(metrics[:, i], color='#1f77b4' if i == 0 else '#ff7f0e', label='valid' if i > 0 else 'train')\n",
    "        ax.set_title(name if i > 1 else 'losses')\n",
    "        ax.legend(loc='best')\n",
    "    plt.show()"
   ]
  },
  {
   "cell_type": "code",
   "execution_count": 23,
   "id": "neither-engineer",
   "metadata": {
    "tags": []
   },
   "outputs": [
    {
     "name": "stdout",
     "output_type": "stream",
     "text": [
      "/home/carrotpie/code/classB/SegmentationLearner/Assets/Data~/models/unity_resnet34_256x_big\n",
      "/home/carrotpie/code/classB/SegmentationLearner/Assets/Data~/screenshots/2831.png\n"
     ]
    }
   ],
   "source": [
    "from fastai.learner import load_learner\n",
    "import os\n",
    "import numpy as np\n",
    "from notebook_libs.helper_funcs import show_masked_original_size, path_to_image_bytes, load_image_from_bytes\n",
    "\n",
    "_test_upload_file = \"\"\n",
    "for root, dirs, files in os.walk(\n",
    "    path, topdown=True, onerror=None, followlinks=False\n",
    "):\n",
    "    _test_upload_file = os.path.join(root, files[0])\n",
    "model_path = os.path.join(path, \"models\", \"unity_resnet34_\"+str(big_res_levels[-1])+\"x\"+\"_big\")\n",
    "\n",
    "print(model_path)\n",
    "print(_test_upload_file)"
   ]
  },
  {
   "cell_type": "code",
   "execution_count": 24,
   "id": "modular-workstation",
   "metadata": {},
   "outputs": [],
   "source": [
    "learner = load_learner(model_path)\n",
    "img_bytes = path_to_image_bytes(_test_upload_file)\n",
    "image = load_image_from_bytes(img_bytes)"
   ]
  },
  {
   "cell_type": "markdown",
   "id": "fleet-operation",
   "metadata": {
    "tags": []
   },
   "source": [
    "#### Predicting Big"
   ]
  },
  {
   "cell_type": "code",
   "execution_count": 26,
   "id": "enclosed-wrong",
   "metadata": {},
   "outputs": [
    {
     "data": {
      "text/html": [],
      "text/plain": [
       "<IPython.core.display.HTML object>"
      ]
     },
     "metadata": {},
     "output_type": "display_data"
    },
    {
     "name": "stdout",
     "output_type": "stream",
     "text": [
      "torch.Size([256, 256])\n"
     ]
    },
    {
     "data": {
      "text/plain": [
       "<AxesSubplot:>"
      ]
     },
     "execution_count": 26,
     "metadata": {},
     "output_type": "execute_result"
    },
    {
     "data": {
      "image/png": "[encoded data removed]",
      "text/plain": [
       "<Figure size 360x360 with 1 Axes>"
      ]
     },
     "metadata": {
      "needs_background": "light"
     },
     "output_type": "display_data"
    }
   ],
   "source": [
    "base_img = PILImage.create(fnames[0])\n",
    "pred = learner.predict(np.array(base_img))[0]\n",
    "print(pred.shape)\n",
    "pred.show()"
   ]
  },
  {
   "cell_type": "code",
   "execution_count": 27,
   "id": "finished-moderator",
   "metadata": {},
   "outputs": [
    {
     "data": {
      "text/html": [],
      "text/plain": [
       "<IPython.core.display.HTML object>"
      ]
     },
     "metadata": {},
     "output_type": "display_data"
    },
    {
     "name": "stdout",
     "output_type": "stream",
     "text": [
      "(256, 256)  resizing back to  (480, 640)\n"
     ]
    },
    {
     "data": {
      "image/png": "[encoded data removed]",
      "text/plain": [
       "<Figure size 432x288 with 1 Axes>"
      ]
     },
     "metadata": {
      "needs_background": "light"
     },
     "output_type": "display_data"
    }
   ],
   "source": [
    "show_masked_original_size(base_img, learner)"
   ]
  },
  {
   "cell_type": "code",
   "execution_count": null,
   "id": "negative-interstate",
   "metadata": {},
   "outputs": [],
   "source": []
  }
 ],
 "metadata": {
  "kernelspec": {
   "display_name": "Python 3",
   "language": "python",
   "name": "python3"
  },
  "language_info": {
   "codemirror_mode": {
    "name": "ipython",
    "version": 3
   },
   "file_extension": ".py",
   "mimetype": "text/x-python",
   "name": "python",
   "nbconvert_exporter": "python",
   "pygments_lexer": "ipython3",
   "version": "3.6.13"
  }
 },
 "nbformat": 4,
 "nbformat_minor": 5
}
