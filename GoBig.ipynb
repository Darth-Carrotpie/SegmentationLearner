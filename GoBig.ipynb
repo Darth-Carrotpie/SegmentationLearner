{
 "cells": [
  {
   "cell_type": "markdown",
   "id": "sixth-ecuador",
   "metadata": {
    "tags": []
   },
   "source": [
    "### About the notebook"
   ]
  },
  {
   "cell_type": "markdown",
   "id": "thousand-sterling",
   "metadata": {},
   "source": [
    "GoBig part upscales the model trained in the SegmentationLearner notebook. Make sure the loaded model names match (they should if you left the default ones).\n",
    "- TODO:\n",
    "Better refactor code so that each notebook run would be an Upscaling step, instead of all upscaling in a loop. This way would be able to instpect metrics better without sacrificing speed."
   ]
  },
  {
   "cell_type": "markdown",
   "id": "considerable-shirt",
   "metadata": {
    "tags": []
   },
   "source": [
    "### Constants\n",
    "Pick the depending on the machine you use to train and personal preferences."
   ]
  },
  {
   "cell_type": "markdown",
   "id": "essential-infrared",
   "metadata": {},
   "source": [
    "- ```batchsize``` sets how big a single train batch was in the small version. It should scale down proportionaly dependong on your res, default = 64 (fits well for 11G graphics card and input pic resolution 64x64)\n",
    "- ```use_transfer``` sets if we use transfer learning or not. Default is False, because unrealistic scenes in Unity are trained not very good.\n",
    "For real life applications try to make as realistic of a scene as possible (lighting, shaddows, ambient lights, textures, etc.)\n",
    "- ```input_res``` and ```output_res```\n",
    "Increased resolution transfer sizes, they will always be square, so one dimention is enough.\n",
    "Input aspect ratio and resolution doesn't too matter much, they are squished into square before learning and unsquished afterwards. Should keep that in mind when applying in an actual use case though. Both axes must bigger than maximum defined size in output_res.\n",
    "Default level training is always (64,64). If output_res is empty same size as input_res, no transfer learning to increase resolution can be done.\n",
    "- ```model_arch```\n",
    "How deep your network is. My 11 gig card handles resnet34 well, asuming batchsize = 80 with pic size = (64,64). If you have more capable hardware (or use cloud computing), you can try go higher."
   ]
  },
  {
   "cell_type": "code",
   "execution_count": 1,
   "id": "reasonable-extent",
   "metadata": {},
   "outputs": [],
   "source": [
    "use_transfer = False\n",
    "input_res = 128\n",
    "output_res = 256\n",
    "from fastai.vision.all import resnet34 as model_arch\n",
    "big_epochs = 25 #5\n",
    "save_name = \"unity_resnet34\"\n",
    "\n",
    "batchsize = 256 // ((output_res // 64) ** 2)# - ( pic_size // 64) # a double // makes this int type. Uncomment if bs too big for CUDA\n",
    "#batchsize = 5 #override if still have problems"
   ]
  },
  {
   "cell_type": "markdown",
   "id": "narrative-trustee",
   "metadata": {},
   "source": [
    "other choices include: resnet50, resnet101, etc. More info at: https://docs.fast.ai/vision.models.xresnet.html and \n",
    "https://fastai1.fast.ai/vision.models.html"
   ]
  },
  {
   "cell_type": "code",
   "execution_count": 2,
   "id": "minute-evaluation",
   "metadata": {},
   "outputs": [
    {
     "name": "stdout",
     "output_type": "stream",
     "text": [
      "Final batchsize:  16\n"
     ]
    }
   ],
   "source": [
    "print(\"Final batchsize: \", str(batchsize))"
   ]
  },
  {
   "cell_type": "markdown",
   "id": "suffering-french",
   "metadata": {},
   "source": [
    "# Upscale"
   ]
  },
  {
   "cell_type": "markdown",
   "id": "annoying-victory",
   "metadata": {},
   "source": [
    "#### Helper Funcs"
   ]
  },
  {
   "cell_type": "code",
   "execution_count": 3,
   "id": "subjective-entity",
   "metadata": {},
   "outputs": [],
   "source": [
    "from fastai.learner import patch, delegates, subplots, Recorder\n",
    "import numpy as np\n",
    "import math\n",
    "from matplotlib import pyplot as plt\n",
    "import pandas as pd\n",
    "from fastinference.onnx import *\n",
    "#Source: https://forums.fast.ai/t/plotting-metrics-after-learning/69937/2\n",
    "@patch\n",
    "@delegates(subplots)\n",
    "def plot_metrics(self: Recorder, nrows=None, ncols=None, figsize=None, **kwargs):\n",
    "    metrics = np.stack(self.values)\n",
    "    names = self.metric_names[1:-1]\n",
    "    n = len(names) - 1\n",
    "    if nrows is None and ncols is None:\n",
    "        nrows = int(math.sqrt(n))\n",
    "        ncols = int(np.ceil(n / nrows))\n",
    "    elif nrows is None: nrows = int(np.ceil(n / ncols))\n",
    "    elif ncols is None: ncols = int(np.ceil(n / nrows))\n",
    "    figsize = figsize or (ncols * 6, nrows * 4)\n",
    "    fig, axs = subplots(nrows, ncols, figsize=figsize, **kwargs)\n",
    "    axs = [ax if i < n else ax.set_axis_off() for i, ax in enumerate(axs.flatten())][:n]\n",
    "    for i, (name, ax) in enumerate(zip(names, [axs[0]] + axs)):\n",
    "        ax.plot(metrics[:, i], color='#1f77b4' if i == 0 else '#ff7f0e', label='valid' if i > 0 else 'train')\n",
    "        ax.set_title(name if i > 1 else 'losses')\n",
    "        ax.legend(loc='best')\n",
    "    plt.show()"
   ]
  },
  {
   "cell_type": "markdown",
   "id": "alive-turkish",
   "metadata": {},
   "source": [
    "### Interpetation"
   ]
  },
  {
   "cell_type": "markdown",
   "id": "ranging-fireplace",
   "metadata": {},
   "source": [
    "So the whole idea by going bigger is to transfer what our model already learned and train a network with more outputs on top of it. If there are memory problems, try restarting the kernel, then run \"constants\" cell and then continue form here. If it still does not work, try reducing params, like batchsize, resolutions, etc."
   ]
  },
  {
   "cell_type": "code",
   "execution_count": 4,
   "id": "southern-naples",
   "metadata": {},
   "outputs": [],
   "source": [
    "from fastai.vision.all import PILImage, get_image_files, DataBlock, unet_learner, ImageBlock, MaskBlock, RandomSplitter, aug_transforms, foreground_acc, DiceMulti,Normalize\n",
    "from fastai.vision.all import SegmentationInterpretation\n",
    "import os, pathlib\n",
    "path = pathlib.Path().absolute()\n",
    "path = os.path.join(path, \"Assets\", \"Data~\")\n",
    "fnames = get_image_files(os.path.join(path,\"screenshots\"))\n",
    "base_img = PILImage.create(fnames[0])"
   ]
  },
  {
   "cell_type": "code",
   "execution_count": 5,
   "id": "racial-section",
   "metadata": {},
   "outputs": [],
   "source": [
    "codes = pd.read_csv(os.path.join(path,'labels.csv'))"
   ]
  },
  {
   "cell_type": "code",
   "execution_count": 6,
   "id": "forced-centre",
   "metadata": {},
   "outputs": [],
   "source": [
    "#testing if resolutions fit:\n",
    "if output_res > min(base_img.shape):\n",
    "    raise Exception(\"Sorry, but your input screenshot is not higher resolution than your defined 'output_res' value. It must either match or be smaller than screen.\")"
   ]
  },
  {
   "cell_type": "code",
   "execution_count": 7,
   "id": "ordinary-leader",
   "metadata": {},
   "outputs": [],
   "source": [
    "def label_func(fn): return os.path.join(path,\"labels\",f\"{fn.stem}{fn.suffix}\")"
   ]
  },
  {
   "cell_type": "code",
   "execution_count": 8,
   "id": "bronze-least",
   "metadata": {
    "tags": []
   },
   "outputs": [],
   "source": [
    "def train_bigger(epochs, lr, model_name_load, model_name_save, pic_size, do_final_export):\n",
    "    current_size = (pic_size,pic_size)\n",
    "    print(\"current pic size:\",current_size)\n",
    "    print(\"current batchsize:\",batchsize)\n",
    "    print(\"epochs:\",epochs)\n",
    "    bigger_block = DataBlock(blocks=(ImageBlock, MaskBlock(codes.LabelName)),\n",
    "                       get_items = get_image_files,\n",
    "                       get_y = label_func,\n",
    "                       splitter=RandomSplitter(),\n",
    "                       batch_tfms=[*aug_transforms(flip_vert = False, max_lighting = 0.1, max_warp=0.05, size=current_size), Normalize])\n",
    "    dls = bigger_block.dataloaders(os.path.join(path,\"screenshots\"), path=path, bs=batchsize)\n",
    "    learn = unet_learner(dls, model_arch, pretrained = use_transfer, moms=(0.85, 0.75, 0.85), n_out=len(codes[\"LabelName\"])+1, metrics=[foreground_acc, DiceMulti()])\n",
    "    learn.load(model_name_load)\n",
    "    learn.fit_one_cycle(epochs, lr)\n",
    "\n",
    "    learn.save(model_name_save)\n",
    "\n",
    "    if do_final_export:\n",
    "        learn.export(\"models/\"+model_name_save+\"_big\")\n",
    "        print(\"exported final model as:\",model_name_save+\"_big\")\n",
    "\n",
    "        onnx_path = os.path.join(path, \"models/\", model_name_save+\"_onnx\")\n",
    "        learn.to_onnx(onnx_path)\n",
    "        print(\"exported an onnx model as:\",onnx_path)\n",
    "    return learn"
   ]
  },
  {
   "cell_type": "code",
   "execution_count": 9,
   "id": "universal-mercy",
   "metadata": {
    "tags": []
   },
   "outputs": [
    {
     "data": {
      "text/plain": [
       "slice(1e-05, 8e-05, None)"
      ]
     },
     "execution_count": 9,
     "metadata": {},
     "output_type": "execute_result"
    }
   ],
   "source": [
    "lr = slice(1e-5, 8e-5)\n",
    "lr"
   ]
  },
  {
   "cell_type": "code",
   "execution_count": 10,
   "id": "comparable-civilization",
   "metadata": {},
   "outputs": [
    {
     "name": "stdout",
     "output_type": "stream",
     "text": [
      "Training: unity_resnet34_256x\n",
      "current pic size: (256, 256)\n",
      "current batchsize: 16\n",
      "epochs: 25\n"
     ]
    },
    {
     "data": {
      "text/html": [
       "<table border=\"1\" class=\"dataframe\">\n",
       "  <thead>\n",
       "    <tr style=\"text-align: left;\">\n",
       "      <th>epoch</th>\n",
       "      <th>train_loss</th>\n",
       "      <th>valid_loss</th>\n",
       "      <th>foreground_acc</th>\n",
       "      <th>dice_multi</th>\n",
       "      <th>time</th>\n",
       "    </tr>\n",
       "  </thead>\n",
       "  <tbody>\n",
       "    <tr>\n",
       "      <td>0</td>\n",
       "      <td>0.229675</td>\n",
       "      <td>0.092478</td>\n",
       "      <td>0.972061</td>\n",
       "      <td>0.816316</td>\n",
       "      <td>01:16</td>\n",
       "    </tr>\n",
       "    <tr>\n",
       "      <td>1</td>\n",
       "      <td>0.192935</td>\n",
       "      <td>0.081896</td>\n",
       "      <td>0.974088</td>\n",
       "      <td>0.825600</td>\n",
       "      <td>01:11</td>\n",
       "    </tr>\n",
       "    <tr>\n",
       "      <td>2</td>\n",
       "      <td>0.175536</td>\n",
       "      <td>0.080193</td>\n",
       "      <td>0.974686</td>\n",
       "      <td>0.826445</td>\n",
       "      <td>01:12</td>\n",
       "    </tr>\n",
       "    <tr>\n",
       "      <td>3</td>\n",
       "      <td>0.156450</td>\n",
       "      <td>0.079388</td>\n",
       "      <td>0.974518</td>\n",
       "      <td>0.826712</td>\n",
       "      <td>01:10</td>\n",
       "    </tr>\n",
       "    <tr>\n",
       "      <td>4</td>\n",
       "      <td>0.163308</td>\n",
       "      <td>0.081297</td>\n",
       "      <td>0.974920</td>\n",
       "      <td>0.837661</td>\n",
       "      <td>01:11</td>\n",
       "    </tr>\n",
       "    <tr>\n",
       "      <td>5</td>\n",
       "      <td>0.146470</td>\n",
       "      <td>0.098429</td>\n",
       "      <td>0.966558</td>\n",
       "      <td>0.826952</td>\n",
       "      <td>01:11</td>\n",
       "    </tr>\n",
       "    <tr>\n",
       "      <td>6</td>\n",
       "      <td>0.117451</td>\n",
       "      <td>0.065995</td>\n",
       "      <td>0.978457</td>\n",
       "      <td>0.851953</td>\n",
       "      <td>01:10</td>\n",
       "    </tr>\n",
       "    <tr>\n",
       "      <td>7</td>\n",
       "      <td>0.125213</td>\n",
       "      <td>0.062620</td>\n",
       "      <td>0.979946</td>\n",
       "      <td>0.848073</td>\n",
       "      <td>01:11</td>\n",
       "    </tr>\n",
       "    <tr>\n",
       "      <td>8</td>\n",
       "      <td>0.106815</td>\n",
       "      <td>0.054998</td>\n",
       "      <td>0.982356</td>\n",
       "      <td>0.865131</td>\n",
       "      <td>01:11</td>\n",
       "    </tr>\n",
       "    <tr>\n",
       "      <td>9</td>\n",
       "      <td>0.094241</td>\n",
       "      <td>0.051363</td>\n",
       "      <td>0.983414</td>\n",
       "      <td>0.866017</td>\n",
       "      <td>01:11</td>\n",
       "    </tr>\n",
       "    <tr>\n",
       "      <td>10</td>\n",
       "      <td>0.080868</td>\n",
       "      <td>0.054435</td>\n",
       "      <td>0.982213</td>\n",
       "      <td>0.871407</td>\n",
       "      <td>01:11</td>\n",
       "    </tr>\n",
       "    <tr>\n",
       "      <td>11</td>\n",
       "      <td>0.082284</td>\n",
       "      <td>0.044335</td>\n",
       "      <td>0.985309</td>\n",
       "      <td>0.879934</td>\n",
       "      <td>01:11</td>\n",
       "    </tr>\n",
       "    <tr>\n",
       "      <td>12</td>\n",
       "      <td>0.076293</td>\n",
       "      <td>0.044591</td>\n",
       "      <td>0.985412</td>\n",
       "      <td>0.882516</td>\n",
       "      <td>01:11</td>\n",
       "    </tr>\n",
       "    <tr>\n",
       "      <td>13</td>\n",
       "      <td>0.064422</td>\n",
       "      <td>0.039525</td>\n",
       "      <td>0.986782</td>\n",
       "      <td>0.888480</td>\n",
       "      <td>01:11</td>\n",
       "    </tr>\n",
       "    <tr>\n",
       "      <td>14</td>\n",
       "      <td>0.066711</td>\n",
       "      <td>0.038833</td>\n",
       "      <td>0.987003</td>\n",
       "      <td>0.889588</td>\n",
       "      <td>01:11</td>\n",
       "    </tr>\n",
       "    <tr>\n",
       "      <td>15</td>\n",
       "      <td>0.067880</td>\n",
       "      <td>0.039646</td>\n",
       "      <td>0.987035</td>\n",
       "      <td>0.889684</td>\n",
       "      <td>01:11</td>\n",
       "    </tr>\n",
       "    <tr>\n",
       "      <td>16</td>\n",
       "      <td>0.057227</td>\n",
       "      <td>0.034957</td>\n",
       "      <td>0.988483</td>\n",
       "      <td>0.894087</td>\n",
       "      <td>01:12</td>\n",
       "    </tr>\n",
       "    <tr>\n",
       "      <td>17</td>\n",
       "      <td>0.062526</td>\n",
       "      <td>0.036772</td>\n",
       "      <td>0.987910</td>\n",
       "      <td>0.893443</td>\n",
       "      <td>01:11</td>\n",
       "    </tr>\n",
       "    <tr>\n",
       "      <td>18</td>\n",
       "      <td>0.051569</td>\n",
       "      <td>0.033630</td>\n",
       "      <td>0.988915</td>\n",
       "      <td>0.899309</td>\n",
       "      <td>01:11</td>\n",
       "    </tr>\n",
       "    <tr>\n",
       "      <td>19</td>\n",
       "      <td>0.052669</td>\n",
       "      <td>0.033387</td>\n",
       "      <td>0.989052</td>\n",
       "      <td>0.898996</td>\n",
       "      <td>01:11</td>\n",
       "    </tr>\n",
       "    <tr>\n",
       "      <td>20</td>\n",
       "      <td>0.050914</td>\n",
       "      <td>0.032433</td>\n",
       "      <td>0.989314</td>\n",
       "      <td>0.900333</td>\n",
       "      <td>01:11</td>\n",
       "    </tr>\n",
       "    <tr>\n",
       "      <td>21</td>\n",
       "      <td>0.047112</td>\n",
       "      <td>0.033143</td>\n",
       "      <td>0.989039</td>\n",
       "      <td>0.898684</td>\n",
       "      <td>01:12</td>\n",
       "    </tr>\n",
       "    <tr>\n",
       "      <td>22</td>\n",
       "      <td>0.046862</td>\n",
       "      <td>0.032309</td>\n",
       "      <td>0.989299</td>\n",
       "      <td>0.900723</td>\n",
       "      <td>01:11</td>\n",
       "    </tr>\n",
       "    <tr>\n",
       "      <td>23</td>\n",
       "      <td>0.046291</td>\n",
       "      <td>0.032777</td>\n",
       "      <td>0.989155</td>\n",
       "      <td>0.899687</td>\n",
       "      <td>01:11</td>\n",
       "    </tr>\n",
       "    <tr>\n",
       "      <td>24</td>\n",
       "      <td>0.047315</td>\n",
       "      <td>0.031758</td>\n",
       "      <td>0.989481</td>\n",
       "      <td>0.901487</td>\n",
       "      <td>01:12</td>\n",
       "    </tr>\n",
       "  </tbody>\n",
       "</table>"
      ],
      "text/plain": [
       "<IPython.core.display.HTML object>"
      ]
     },
     "metadata": {},
     "output_type": "display_data"
    },
    {
     "name": "stdout",
     "output_type": "stream",
     "text": [
      "exported final model as: unity_resnet34_256x_big\n",
      "exported an onnx model as: /home/carrotpie/code/classB/SegmentationLearner/Assets/Data~/models/unity_resnet34_256x_onnx\n"
     ]
    }
   ],
   "source": [
    "name_to_load = save_name+\"_\"+str(input_res)+\"x\"\n",
    "name_to_save = save_name+\"_\"+str(output_res)+\"x\"\n",
    "\n",
    "print(\"Training: \"+name_to_save)\n",
    "learner = train_bigger(big_epochs, lr, name_to_load, name_to_save, output_res, True)"
   ]
  },
  {
   "cell_type": "markdown",
   "id": "posted-studio",
   "metadata": {
    "tags": []
   },
   "source": [
    "# Results"
   ]
  },
  {
   "cell_type": "markdown",
   "id": "handed-keyboard",
   "metadata": {
    "tags": []
   },
   "source": [
    "### Metrics"
   ]
  },
  {
   "cell_type": "code",
   "execution_count": 11,
   "id": "heard-atlanta",
   "metadata": {},
   "outputs": [
    {
     "data": {
      "image/png": "[encoded data removed]",
      "text/plain": [
       "<Figure size 1296x288 with 3 Axes>"
      ]
     },
     "metadata": {
      "needs_background": "light"
     },
     "output_type": "display_data"
    }
   ],
   "source": [
    "    #!!!! If you use metrics, the models seems to sometimes run out of memory, so decrease batch size before that.\n",
    "#metrics\n",
    "learner.recorder.plot_metrics()"
   ]
  },
  {
   "cell_type": "code",
   "execution_count": null,
   "id": "cloudy-combine",
   "metadata": {},
   "outputs": [
    {
     "data": {
      "text/html": [],
      "text/plain": [
       "<IPython.core.display.HTML object>"
      ]
     },
     "metadata": {},
     "output_type": "display_data"
    }
   ],
   "source": [
    "#top losses\n",
    "interp = SegmentationInterpretation.from_learner(learner)\n",
    "interp.plot_top_losses(k=5)"
   ]
  },
  {
   "cell_type": "code",
   "execution_count": null,
   "id": "sunrise-footage",
   "metadata": {},
   "outputs": [],
   "source": [
    "raise Exception(\"Stop here. Below section should be run separately after kernel restart. Otherwise libs interfere with each other somehow. First run constants cell, then all of the below.\")"
   ]
  },
  {
   "cell_type": "markdown",
   "id": "together-induction",
   "metadata": {
    "tags": []
   },
   "source": [
    "## Predicting"
   ]
  },
  {
   "cell_type": "markdown",
   "id": "collected-journalist",
   "metadata": {},
   "source": [
    "### Loading libs and paths"
   ]
  },
  {
   "cell_type": "code",
   "execution_count": null,
   "id": "toxic-christianity",
   "metadata": {},
   "outputs": [],
   "source": [
    "from fastai.learner import patch, delegates, subplots, Recorder, load_learner\n",
    "import os, pathlib\n",
    "from fastai.vision.all import PILImage, get_image_files\n",
    "import numpy as np\n",
    "\n",
    "from notebook_libs.helper_funcs import show_masked_original_size, path_to_image_bytes, load_image_from_bytes\n",
    "\n",
    "def label_func(fn): return os.path.join(path,\"labels\",f\"{fn.stem}{fn.suffix}\")"
   ]
  },
  {
   "cell_type": "code",
   "execution_count": null,
   "id": "amateur-natural",
   "metadata": {},
   "outputs": [],
   "source": [
    "path = pathlib.Path().absolute()\n",
    "path = os.path.join(path, \"Assets\", \"Data~\")"
   ]
  },
  {
   "cell_type": "code",
   "execution_count": null,
   "id": "macro-fields",
   "metadata": {
    "tags": []
   },
   "outputs": [],
   "source": [
    "# Can use walk to read the folder or just import with a helper func:\n",
    "_test_upload_file = \"\"\n",
    "for root, dirs, files in os.walk(\n",
    "    path, topdown=True, onerror=None, followlinks=False\n",
    "):\n",
    "    _test_upload_file = os.path.join(root, files[0])\n",
    "model_path = os.path.join(path, \"models\", \"unity_resnet34_\"+str(output_res)+\"x\"+\"_big\")\n",
    "\n",
    "fnames = get_image_files(os.path.join(path,\"screenshots\"))\n",
    "\n",
    "print(model_path)\n",
    "print(_test_upload_file)\n",
    "print(fnames[0])"
   ]
  },
  {
   "cell_type": "markdown",
   "id": "tender-console",
   "metadata": {
    "tags": []
   },
   "source": [
    "### Loading a model"
   ]
  },
  {
   "cell_type": "code",
   "execution_count": null,
   "id": "brave-reverse",
   "metadata": {},
   "outputs": [],
   "source": [
    "learner = load_learner(model_path)\n",
    "img_bytes = path_to_image_bytes(_test_upload_file)\n",
    "image = load_image_from_bytes(img_bytes)"
   ]
  },
  {
   "cell_type": "markdown",
   "id": "unknown-composition",
   "metadata": {
    "tags": []
   },
   "source": [
    "### Predictions"
   ]
  },
  {
   "cell_type": "code",
   "execution_count": null,
   "id": "practical-rouge",
   "metadata": {},
   "outputs": [],
   "source": [
    "base_img = PILImage.create(fnames[0])\n",
    "pred = learner.predict(np.array(base_img))[0]\n",
    "print(pred.shape)\n",
    "pred.show()"
   ]
  },
  {
   "cell_type": "code",
   "execution_count": null,
   "id": "wired-douglas",
   "metadata": {},
   "outputs": [],
   "source": [
    "show_masked_original_size(base_img, learner)"
   ]
  },
  {
   "cell_type": "markdown",
   "id": "prompt-westminster",
   "metadata": {},
   "source": [
    "For ONNX inference / predictions, see ONNX.ipynb"
   ]
  }
 ],
 "metadata": {
  "kernelspec": {
   "display_name": "Python 3",
   "language": "python",
   "name": "python3"
  },
  "language_info": {
   "codemirror_mode": {
    "name": "ipython",
    "version": 3
   },
   "file_extension": ".py",
   "mimetype": "text/x-python",
   "name": "python",
   "nbconvert_exporter": "python",
   "pygments_lexer": "ipython3",
   "version": "3.6.13"
  }
 },
 "nbformat": 4,
 "nbformat_minor": 5
}
